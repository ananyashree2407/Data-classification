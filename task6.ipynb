{
  "cells": [
    {
      "cell_type": "markdown",
      "metadata": {
        "id": "P6JeRBI1MUZ8"
      },
      "source": [
        "Task 6\n",
        "\n",
        "Perform a Text Classification on consumer complaint dataset and classify into them as Credit reporting, repair, or\n",
        "other, Debt collection, Consumer Loan, Mortgage"
      ]
    },
    {
      "cell_type": "code",
      "execution_count": 1,
      "metadata": {
        "id": "WPB-CHRpwWsQ"
      },
      "outputs": [],
      "source": [
        "# importing all the necessary libraries\n",
        "\n",
        "import requests\n",
        "import pandas as pd\n",
        "from sklearn.feature_extraction.text import TfidfVectorizer\n",
        "from sklearn.model_selection import train_test_split\n",
        "from sklearn.naive_bayes import MultinomialNB\n",
        "\n",
        "\n",
        "import requests\n",
        "import pandas as pd\n",
        "from io import BytesIO\n",
        "import zipfile\n",
        "\n",
        "from sklearn.preprocessing import LabelEncoder\n",
        "\n",
        "from sklearn.metrics import classification_report, accuracy_score\n"
      ]
    },
    {
      "cell_type": "code",
      "execution_count": 2,
      "metadata": {
        "colab": {
          "base_uri": "https://localhost:8080/"
        },
        "id": "ASPmfoQVzpjh",
        "outputId": "a6e9c8a8-a14a-4d3a-f50d-8887ebe93633"
      },
      "outputs": [
        {
          "output_type": "stream",
          "name": "stdout",
          "text": [
            "  Date received                                            Product  \\\n",
            "0    2023-09-04  Money transfer, virtual currency, or money ser...   \n",
            "1    2023-09-06                                    Debt collection   \n",
            "2    2023-09-06                        Checking or savings account   \n",
            "3    2023-09-07                                    Debt collection   \n",
            "4    2023-09-13  Credit reporting or other personal consumer re...   \n",
            "\n",
            "                        Sub-product  \\\n",
            "0          Mobile or digital wallet   \n",
            "1                        Other debt   \n",
            "2  Other banking product or service   \n",
            "3                  Credit card debt   \n",
            "4                  Credit reporting   \n",
            "\n",
            "                                               Issue  \\\n",
            "0  Trouble accessing funds in your mobile or digi...   \n",
            "1                  Attempts to collect debt not owed   \n",
            "2                                Managing an account   \n",
            "3                              Communication tactics   \n",
            "4               Incorrect information on your report   \n",
            "\n",
            "                                      Sub-issue Consumer complaint narrative  \\\n",
            "0                                           NaN                          NaN   \n",
            "1             Debt was result of identity theft                          NaN   \n",
            "2                     Problem accessing account                          NaN   \n",
            "3                    Frequent or repeated calls                          NaN   \n",
            "4  Old information reappears or never goes away                          NaN   \n",
            "\n",
            "                             Company public response  \\\n",
            "0                                                NaN   \n",
            "1  Company believes the complaint is the result o...   \n",
            "2                                                NaN   \n",
            "3                                                NaN   \n",
            "4                                                NaN   \n",
            "\n",
            "                             Company State ZIP code Tags  \\\n",
            "0               Paypal Holdings, Inc    NC    27587  NaN   \n",
            "1       CCS Financial Services, Inc.    FL    33032  NaN   \n",
            "2  CAPITAL ONE FINANCIAL CORPORATION    LA    70117  NaN   \n",
            "3  PORTFOLIO RECOVERY ASSOCIATES INC    PA    150XX  NaN   \n",
            "4                      EQUIFAX, INC.    FL    33805  NaN   \n",
            "\n",
            "  Consumer consent provided? Submitted via Date sent to company  \\\n",
            "0                        NaN           Web           2023-09-04   \n",
            "1                        NaN           Web           2023-09-06   \n",
            "2                        NaN           Web           2023-09-06   \n",
            "3                        NaN           Web           2023-09-07   \n",
            "4                        NaN           Web           2023-09-13   \n",
            "\n",
            "      Company response to consumer Timely response? Consumer disputed?  \\\n",
            "0          Closed with explanation              Yes                NaN   \n",
            "1          Closed with explanation              Yes                NaN   \n",
            "2  Closed with non-monetary relief              Yes                NaN   \n",
            "3  Closed with non-monetary relief              Yes                NaN   \n",
            "4                      In progress              Yes                NaN   \n",
            "\n",
            "   Complaint ID  \n",
            "0       7493283  \n",
            "1       7510657  \n",
            "2       7510356  \n",
            "3       7514982  \n",
            "4       7537220  \n"
          ]
        }
      ],
      "source": [
        "zip_file_url = \"https://files.consumerfinance.gov/ccdb/complaints.csv.zip\"\n",
        "\n",
        "try:\n",
        "\n",
        "    response = requests.get(zip_file_url)\n",
        "    response.raise_for_status()\n",
        "\n",
        "\n",
        "    with zipfile.ZipFile(BytesIO(response.content)) as zip_file:\n",
        "\n",
        "        csv_file_name = zip_file.namelist()[0]\n",
        "        with zip_file.open(csv_file_name) as csv_file:\n",
        "\n",
        "            df = pd.read_csv(csv_file)\n",
        "\n",
        "\n",
        "    print(df.head())\n",
        "\n",
        "except requests.exceptions.RequestException as e:\n",
        "    print(f\"Error: {e}\")\n",
        "except Exception as e:\n",
        "    print(f\"An error occurred: {e}\")\n"
      ]
    },
    {
      "cell_type": "code",
      "execution_count": 3,
      "metadata": {
        "colab": {
          "base_uri": "https://localhost:8080/"
        },
        "id": "zX3rNIZkygi7",
        "outputId": "cac0c958-b1da-43af-8f37-6ed48058087e"
      },
      "outputs": [
        {
          "output_type": "stream",
          "name": "stdout",
          "text": [
            "  Date received                                            Product  \\\n",
            "0    2023-09-04  Money transfer, virtual currency, or money ser...   \n",
            "1    2023-09-06                                    Debt collection   \n",
            "2    2023-09-06                        Checking or savings account   \n",
            "3    2023-09-07                                    Debt collection   \n",
            "4    2023-09-13  Credit reporting or other personal consumer re...   \n",
            "\n",
            "                        Sub-product  \\\n",
            "0          Mobile or digital wallet   \n",
            "1                        Other debt   \n",
            "2  Other banking product or service   \n",
            "3                  Credit card debt   \n",
            "4                  Credit reporting   \n",
            "\n",
            "                                               Issue  \\\n",
            "0  Trouble accessing funds in your mobile or digi...   \n",
            "1                  Attempts to collect debt not owed   \n",
            "2                                Managing an account   \n",
            "3                              Communication tactics   \n",
            "4               Incorrect information on your report   \n",
            "\n",
            "                                      Sub-issue Consumer complaint narrative  \\\n",
            "0                                           NaN                          NaN   \n",
            "1             Debt was result of identity theft                          NaN   \n",
            "2                     Problem accessing account                          NaN   \n",
            "3                    Frequent or repeated calls                          NaN   \n",
            "4  Old information reappears or never goes away                          NaN   \n",
            "\n",
            "                             Company public response  \\\n",
            "0                                                NaN   \n",
            "1  Company believes the complaint is the result o...   \n",
            "2                                                NaN   \n",
            "3                                                NaN   \n",
            "4                                                NaN   \n",
            "\n",
            "                             Company State ZIP code Tags  \\\n",
            "0               Paypal Holdings, Inc    NC    27587  NaN   \n",
            "1       CCS Financial Services, Inc.    FL    33032  NaN   \n",
            "2  CAPITAL ONE FINANCIAL CORPORATION    LA    70117  NaN   \n",
            "3  PORTFOLIO RECOVERY ASSOCIATES INC    PA    150XX  NaN   \n",
            "4                      EQUIFAX, INC.    FL    33805  NaN   \n",
            "\n",
            "  Consumer consent provided? Submitted via Date sent to company  \\\n",
            "0                        NaN           Web           2023-09-04   \n",
            "1                        NaN           Web           2023-09-06   \n",
            "2                        NaN           Web           2023-09-06   \n",
            "3                        NaN           Web           2023-09-07   \n",
            "4                        NaN           Web           2023-09-13   \n",
            "\n",
            "      Company response to consumer Timely response? Consumer disputed?  \\\n",
            "0          Closed with explanation              Yes                NaN   \n",
            "1          Closed with explanation              Yes                NaN   \n",
            "2  Closed with non-monetary relief              Yes                NaN   \n",
            "3  Closed with non-monetary relief              Yes                NaN   \n",
            "4                      In progress              Yes                NaN   \n",
            "\n",
            "   Complaint ID  \n",
            "0       7493283  \n",
            "1       7510657  \n",
            "2       7510356  \n",
            "3       7514982  \n",
            "4       7537220  \n",
            "Credit reporting, credit repair services, or other personal consumer reports    2167275\n",
            "Debt collection                                                                  505290\n",
            "Mortgage                                                                         383776\n",
            "Credit card or prepaid card                                                      206211\n",
            "Checking or savings account                                                      181747\n",
            "Credit reporting                                                                 140429\n",
            "Credit card                                                                       90832\n",
            "Bank account or service                                                           86205\n",
            "Student loan                                                                      76455\n",
            "Money transfer, virtual currency, or money service                                58526\n",
            "Vehicle loan or lease                                                             47448\n",
            "Credit reporting or other personal consumer reports                               42686\n",
            "Consumer Loan                                                                     31575\n",
            "Payday loan, title loan, or personal loan                                         30603\n",
            "Payday loan                                                                        5541\n",
            "Money transfers                                                                    5354\n",
            "Prepaid card                                                                       3897\n",
            "Other financial service                                                            1058\n",
            "Payday loan, title loan, personal loan, or advance loan                             137\n",
            "Debt or credit management                                                            40\n",
            "Virtual currency                                                                     18\n",
            "Name: Product, dtype: int64\n"
          ]
        }
      ],
      "source": [
        "# performing EDA on the dataset\n",
        "\n",
        "print(df.head())\n",
        "print(df['Product'].value_counts())"
      ]
    },
    {
      "cell_type": "code",
      "execution_count": null,
      "metadata": {
        "colab": {
          "base_uri": "https://localhost:8080/"
        },
        "id": "x8dk3iZm0Na0",
        "outputId": "25db3c09-4b29-4167-e6fe-1a83bbba47e9"
      },
      "outputs": [
        {
          "name": "stdout",
          "output_type": "stream",
          "text": [
            "Index(['Date received', 'Product', 'Sub-product', 'Issue', 'Sub-issue',\n",
            "       'Consumer complaint narrative', 'Company public response', 'Company',\n",
            "       'State', 'ZIP code', 'Tags', 'Consumer consent provided?',\n",
            "       'Submitted via', 'Date sent to company', 'Company response to consumer',\n",
            "       'Timely response?', 'Consumer disputed?', 'Complaint ID'],\n",
            "      dtype='object')\n",
            "The 'category' column does not exist in the DataFrame.\n"
          ]
        }
      ],
      "source": [
        "# to check the names of the columns present in the csv file\n",
        "\n",
        "\n",
        "print(df.columns)\n",
        "if 'category' in df.columns:\n",
        "    category_column = df['category']\n",
        "else:\n",
        "    print(\"The 'category' column does not exist in the DataFrame.\")"
      ]
    },
    {
      "cell_type": "code",
      "execution_count": 4,
      "metadata": {
        "id": "p7MgQts91mYy"
      },
      "outputs": [],
      "source": [
        "X = df['Consumer complaint narrative']\n",
        "y = df['Product']\n"
      ]
    },
    {
      "cell_type": "code",
      "execution_count": 5,
      "metadata": {
        "id": "8NL6Z58G2PUv"
      },
      "outputs": [],
      "source": [
        "X_train, X_test, y_train, y_test = train_test_split(X, y, test_size=0.2, random_state=42)"
      ]
    },
    {
      "cell_type": "code",
      "execution_count": 6,
      "metadata": {
        "id": "ulu9mL8-2TBa"
      },
      "outputs": [],
      "source": [
        "\n",
        "X_train.fillna('', inplace=True)\n",
        "X_test.fillna('', inplace=True)\n",
        "\n",
        "\n",
        "\n",
        "\n",
        "tfidf_vectorizer = TfidfVectorizer(max_features=5000)\n",
        "\n",
        "\n",
        "X_train_tfidf = tfidf_vectorizer.fit_transform(X_train)\n",
        "\n",
        "\n",
        "X_test_tfidf = tfidf_vectorizer.transform(X_test)\n",
        "\n"
      ]
    },
    {
      "cell_type": "code",
      "execution_count": 7,
      "metadata": {
        "id": "bqNQ238t4htW"
      },
      "outputs": [],
      "source": [
        "label_encoder = LabelEncoder()\n",
        "y_train_encoded = label_encoder.fit_transform(y_train)\n",
        "y_test_encoded = label_encoder.transform(y_test)"
      ]
    },
    {
      "cell_type": "code",
      "execution_count": null,
      "metadata": {
        "colab": {
          "base_uri": "https://localhost:8080/"
        },
        "id": "7aaJjfIr42ZU",
        "outputId": "b258474e-0be6-472b-b4eb-5224b19b4147"
      },
      "outputs": [
        {
          "name": "stderr",
          "output_type": "stream",
          "text": [
            "/usr/local/lib/python3.10/dist-packages/sklearn/linear_model/_logistic.py:458: ConvergenceWarning: lbfgs failed to converge (status=1):\n",
            "STOP: TOTAL NO. of ITERATIONS REACHED LIMIT.\n",
            "\n",
            "Increase the number of iterations (max_iter) or scale the data as shown in:\n",
            "    https://scikit-learn.org/stable/modules/preprocessing.html\n",
            "Please also refer to the documentation for alternative solver options:\n",
            "    https://scikit-learn.org/stable/modules/linear_model.html#logistic-regression\n",
            "  n_iter_i = _check_optimize_result(\n",
            "/usr/local/lib/python3.10/dist-packages/sklearn/metrics/_classification.py:1344: UndefinedMetricWarning: Precision and F-score are ill-defined and being set to 0.0 in labels with no predicted samples. Use `zero_division` parameter to control this behavior.\n",
            "  _warn_prf(average, modifier, msg_start, len(result))\n",
            "/usr/local/lib/python3.10/dist-packages/sklearn/metrics/_classification.py:1344: UndefinedMetricWarning: Precision and F-score are ill-defined and being set to 0.0 in labels with no predicted samples. Use `zero_division` parameter to control this behavior.\n",
            "  _warn_prf(average, modifier, msg_start, len(result))\n"
          ]
        },
        {
          "name": "stdout",
          "output_type": "stream",
          "text": [
            "Accuracy: 0.6438207552403413\n",
            "Classification Report:\n",
            "                                                                              precision    recall  f1-score   support\n",
            "\n",
            "                                                     Bank account or service       0.62      0.05      0.09     17460\n",
            "                                                 Checking or savings account       0.72      0.34      0.46     36252\n",
            "                                                               Consumer Loan       0.48      0.04      0.08      6337\n",
            "                                                                 Credit card       0.59      0.05      0.10     18100\n",
            "                                                 Credit card or prepaid card       0.71      0.38      0.50     41401\n",
            "                                                            Credit reporting       0.62      0.04      0.07     28330\n",
            "                         Credit reporting or other personal consumer reports       0.00      0.00      0.00      6974\n",
            "Credit reporting, credit repair services, or other personal consumer reports       0.62      0.98      0.76    432896\n",
            "                                                             Debt collection       0.79      0.33      0.47    101097\n",
            "                                                   Debt or credit management       0.00      0.00      0.00         3\n",
            "                          Money transfer, virtual currency, or money service       0.75      0.39      0.51     11647\n",
            "                                                             Money transfers       0.68      0.03      0.05      1062\n",
            "                                                                    Mortgage       0.88      0.26      0.40     76691\n",
            "                                                     Other financial service       0.00      0.00      0.00       203\n",
            "                                                                 Payday loan       0.44      0.03      0.06      1124\n",
            "                                   Payday loan, title loan, or personal loan       0.57      0.22      0.32      6095\n",
            "                     Payday loan, title loan, personal loan, or advance loan       0.00      0.00      0.00        15\n",
            "                                                                Prepaid card       0.66      0.08      0.15       787\n",
            "                                                                Student loan       0.86      0.37      0.52     15381\n",
            "                                                       Vehicle loan or lease       0.63      0.31      0.41      9302\n",
            "                                                            Virtual currency       0.00      0.00      0.00         2\n",
            "\n",
            "                                                                    accuracy                           0.64    811159\n",
            "                                                                   macro avg       0.51      0.19      0.24    811159\n",
            "                                                                weighted avg       0.67      0.64      0.58    811159\n",
            "\n"
          ]
        },
        {
          "name": "stderr",
          "output_type": "stream",
          "text": [
            "/usr/local/lib/python3.10/dist-packages/sklearn/metrics/_classification.py:1344: UndefinedMetricWarning: Precision and F-score are ill-defined and being set to 0.0 in labels with no predicted samples. Use `zero_division` parameter to control this behavior.\n",
            "  _warn_prf(average, modifier, msg_start, len(result))\n"
          ]
        }
      ],
      "source": [
        "from sklearn.linear_model import LogisticRegression\n",
        "classifier = LogisticRegression(max_iter=500)\n",
        "\n",
        "classifier.fit(X_train_tfidf, y_train_encoded)\n",
        "\n",
        "\n",
        "\n",
        "\n",
        "y_pred = classifier.predict(X_test_tfidf)\n",
        "\n",
        "\n",
        "accuracy = accuracy_score(y_test_encoded, y_pred)\n",
        "report = classification_report(y_test_encoded, y_pred, target_names=label_encoder.classes_)\n",
        "\n",
        "print(f'Accuracy: {accuracy}')\n",
        "print('Classification Report:')\n",
        "print(report)"
      ]
    },
    {
      "cell_type": "code",
      "execution_count": null,
      "metadata": {
        "colab": {
          "base_uri": "https://localhost:8080/"
        },
        "id": "W-ekfCwJj4Cg",
        "outputId": "43d923e5-48c4-468d-fc9d-38456ca7a554"
      },
      "outputs": [
        {
          "name": "stdout",
          "output_type": "stream",
          "text": [
            "Predicted Category: Credit reporting, credit repair services, or other personal consumer reports\n"
          ]
        }
      ],
      "source": [
        "new_complaint = [\"I have an issue with my credit report.\"]\n",
        "new_complaint_tfidf = tfidf_vectorizer.transform(new_complaint)\n",
        "predicted_category = classifier.predict(new_complaint_tfidf)\n",
        "predicted_category_label = label_encoder.inverse_transform(predicted_category)\n",
        "print(f'Predicted Category: {predicted_category_label[0]}')"
      ]
    },
    {
      "cell_type": "code",
      "execution_count": null,
      "metadata": {
        "id": "EkVs1jbnN8nu"
      },
      "outputs": [],
      "source": [
        "from sklearn.svm import SVC\n",
        "from sklearn.metrics import accuracy_score, classification_report\n",
        "\n",
        "# Create an SVM classifier\n",
        "svm_classifier = SVC()\n",
        "\n",
        "# Fit the SVM classifier to the training data\n",
        "svm_classifier.fit(X_train_tfidf, y_train_encoded)\n",
        "\n",
        "# Make predictions on the test data\n",
        "y_pred_svm = svm_classifier.predict(X_test_tfidf)\n",
        "\n",
        "# Calculate accuracy and generate a classification report\n",
        "accuracy_svm = accuracy_score(y_test_encoded, y_pred_svm)\n",
        "report_svm = classification_report(y_test_encoded, y_pred_svm, target_names=label_encoder.classes_)\n",
        "\n",
        "print(\"SVM Classifier:\")\n",
        "print(f'Accuracy: {accuracy_svm}')\n",
        "print('Classification Report:')\n",
        "print(report_svm)\n"
      ]
    },
    {
      "cell_type": "code",
      "execution_count": null,
      "metadata": {
        "id": "fmjyvGwMOGrn"
      },
      "outputs": [],
      "source": [
        "new_complaint = [\"I am trying to dispute an item on my credit report, but the credit bureau is not responding.\"]\n",
        "new_complaint_tfidf = tfidf_vectorizer.transform(new_complaint)\n",
        "predicted_category = classifier.predict(new_complaint_tfidf)\n",
        "predicted_category_label = label_encoder.inverse_transform(predicted_category)\n",
        "print(f'Predicted Category: {predicted_category_label[0]}')"
      ]
    },
    {
      "cell_type": "code",
      "execution_count": null,
      "metadata": {
        "colab": {
          "background_save": true
        },
        "id": "TazDiULIN9mn"
      },
      "outputs": [],
      "source": [
        "from sklearn.ensemble import RandomForestClassifier\n",
        "from sklearn.metrics import accuracy_score, classification_report\n",
        "\n",
        "# Create a Random Forest classifier\n",
        "rf_classifier = RandomForestClassifier(n_estimators=100)\n",
        "\n",
        "# Fit the Random Forest classifier to the training data\n",
        "rf_classifier.fit(X_train_tfidf, y_train_encoded)\n",
        "\n",
        "# Make predictions on the test data\n",
        "y_pred_rf = rf_classifier.predict(X_test_tfidf)\n",
        "\n",
        "# Calculate accuracy and generate a classification report\n",
        "accuracy_rf = accuracy_score(y_test_encoded, y_pred_rf)\n",
        "report_rf = classification_report(y_test_encoded, y_pred_rf, target_names=label_encoder.classes_)\n",
        "\n",
        "print(\"Random Forest Classifier:\")\n",
        "print(f'Accuracy: {accuracy_rf}')\n",
        "print('Classification Report:')\n",
        "print(report_rf)\n"
      ]
    },
    {
      "cell_type": "code",
      "execution_count": null,
      "metadata": {
        "id": "nWIRCSSsOHzZ"
      },
      "outputs": [],
      "source": [
        "new_complaint = [\"I have an issue with my credit report.\"]\n",
        "new_complaint_tfidf = tfidf_vectorizer.transform(new_complaint)\n",
        "predicted_category = classifier.predict(new_complaint_tfidf)\n",
        "predicted_category_label = label_encoder.inverse_transform(predicted_category)\n",
        "print(f'Predicted Category: {predicted_category_label[0]}')"
      ]
    }
  ],
  "metadata": {
    "colab": {
      "provenance": []
    },
    "kernelspec": {
      "display_name": "Python 3",
      "name": "python3"
    },
    "language_info": {
      "name": "python"
    }
  },
  "nbformat": 4,
  "nbformat_minor": 0
}